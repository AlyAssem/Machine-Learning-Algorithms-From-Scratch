{
 "cells": [
  {
   "cell_type": "code",
   "execution_count": 25,
   "metadata": {},
   "outputs": [],
   "source": [
    "import numpy as np"
   ]
  },
  {
   "cell_type": "code",
   "execution_count": 26,
   "metadata": {},
   "outputs": [],
   "source": [
    "def mean_absolute_error(predictions, targets):\n",
    "    \"\"\"Returns mean of absolute differences among predictions and expected\n",
    "       results, where all individual deviations have even importance.\"\"\"\n",
    "   \n",
    "    # getting number of samples in a dataset.\n",
    "    num_samples = len(predictions)\n",
    "    \n",
    "    # adding the absolute differences between predicted and expected values.\n",
    "    sum_errors = 0\n",
    "    \n",
    "    # iterate through tuples of neighboring elements in both lists. \n",
    "    for prediction, target in zip(predictions, targets):\n",
    "        sum_errors += np.abs(prediction - target) # absolute value of error.\n",
    "    \n",
    "    mae = (1 / num_samples) * sum_errors\n",
    "    return mae"
   ]
  },
  {
   "cell_type": "code",
   "execution_count": 27,
   "metadata": {},
   "outputs": [],
   "source": [
    "def mean_squared_error(predictions, targets):\n",
    "    \"\"\"Returns avg. squared difference between the predictions and targets.\n",
    "       The error is equivalent to the area of the square created of the-\n",
    "       geometrical distance between the tuple measured points.\n",
    "       most popular when using gradient descent for optimization.\n",
    "       \"\"\"\n",
    "   \n",
    "    # getting number of samples in a dataset.\n",
    "    num_samples = len(predictions)\n",
    "    \n",
    "    # adding the square differences between predicted and expected values.\n",
    "    sum_errors = 0\n",
    "    \n",
    "    # iterate through tuples of neighboring elements in both lists. \n",
    "    for prediction, target in zip(predictions, targets):\n",
    "        sum_errors += (prediction - target) **2 # squared value error.\n",
    "    \n",
    "    mse = (1 / (2 * num_samples)) * sum_errors \n",
    "    return mse"
   ]
  },
  {
   "cell_type": "code",
   "execution_count": 28,
   "metadata": {},
   "outputs": [
    {
     "name": "stdout",
     "output_type": "stream",
     "text": [
      "3.5\n",
      "11.03125\n"
     ]
    }
   ],
   "source": [
    "pred = [0, 5, 10, 15, 0, 2, 4, 6]\n",
    "targets = [0, 2, 4, 5, 0, 0.5, 1, 1.5]\n",
    "\n",
    "print(mean_absolute_error(pred, targets))\n",
    "print(mean_squared_error(pred, targets))"
   ]
  },
  {
   "cell_type": "code",
   "execution_count": null,
   "metadata": {},
   "outputs": [],
   "source": []
  }
 ],
 "metadata": {
  "kernelspec": {
   "display_name": "Python 3",
   "language": "python",
   "name": "python3"
  },
  "language_info": {
   "codemirror_mode": {
    "name": "ipython",
    "version": 3
   },
   "file_extension": ".py",
   "mimetype": "text/x-python",
   "name": "python",
   "nbconvert_exporter": "python",
   "pygments_lexer": "ipython3",
   "version": "3.7.3"
  }
 },
 "nbformat": 4,
 "nbformat_minor": 2
}
